{
  "nbformat": 4,
  "nbformat_minor": 0,
  "metadata": {
    "colab": {
      "provenance": [],
      "authorship_tag": "ABX9TyMSlZeKEq4wWOP5ur+fgfvn",
      "include_colab_link": true
    },
    "kernelspec": {
      "name": "python3",
      "display_name": "Python 3"
    },
    "language_info": {
      "name": "python"
    }
  },
  "cells": [
    {
      "cell_type": "markdown",
      "metadata": {
        "id": "view-in-github",
        "colab_type": "text"
      },
      "source": [
        "<a href=\"https://colab.research.google.com/github/havihaviplants/Artbox/blob/main/%EB%8D%B0%EC%9D%B4%ED%84%B0%EA%B3%BC%ED%95%99_%EA%B3%BC%EC%A0%9C_%EA%B0%95%EC%9D%98%EC%8B%9C%EA%B0%84%ED%91%9C_%EC%B6%9C%EB%A0%A5.ipynb\" target=\"_parent\"><img src=\"https://colab.research.google.com/assets/colab-badge.svg\" alt=\"Open In Colab\"/></a>"
      ]
    },
    {
      "cell_type": "code",
      "execution_count": 1,
      "metadata": {
        "id": "xuAcVNPRW4Zh"
      },
      "outputs": [],
      "source": [
        "col_names = ['과목번호', '과목명', '강의실', '시간 수']\n",
        "list1 = list([['C1', '인공지능 개론', 'R1', 3],\n",
        "              ['C2', '웃음치료', 'R2', 2],\n",
        "              ['C3', '경영학', 'R3', 3],\n",
        "              ['C4', '3D 디자인', 'R4', 4],\n",
        "              ['C5', '스포츠경영', 'R2', 2],\n",
        "              ['C6', '예술의 세계', 'R3', 1]\n",
        "              ])"
      ]
    },
    {
      "cell_type": "code",
      "source": [
        "import pandas as pd\n",
        "\n",
        "col_names = ['과목번호', '과목명', '강의실', '시간 수']\n",
        "data = [['C1', '인공지능 개론', 'R1', 3],\n",
        "        ['C2', '웃음치료', 'R2', 2],\n",
        "        ['C3', '경영학', 'R3', 3],\n",
        "        ['C4', '3D 디자인', 'R4', 4],\n",
        "        ['C5', '스포츠경영', 'R2', 2],\n",
        "        ['C6', '예술의 세계', 'R3', 1]\n",
        "        ]\n",
        "\n",
        "df = pd.DataFrame(data, columns=col_names)\n"
      ],
      "metadata": {
        "id": "vc6nQZKvX7uB"
      },
      "execution_count": 3,
      "outputs": []
    },
    {
      "cell_type": "code",
      "source": [
        "import pandas as pd\n",
        "\n",
        "col_names = ['과목번호', '과목명', '강의실', '시간 수']\n",
        "data = [['C1', '인공지능 개론', 'R1', 3],\n",
        "        ['C2', '웃음치료', 'R2', 2],\n",
        "        ['C3', '경영학', 'R3', 3],\n",
        "        ['C4', '3D 디자인', 'R4', 4],\n",
        "        ['C5', '스포츠경영', 'R2', 2],\n",
        "        ['C6', '예술의 세계', 'R3', 1]\n",
        "        ]\n",
        "\n",
        "# 데이터프레임 생성\n",
        "df = pd.DataFrame(data, columns=col_names)\n",
        "\n",
        "# '교수' 열 추가\n",
        "professors = ['김예희', '오정현', '인세훈', '이새봄', '배유진', '이가원']\n",
        "df['교수'] = professors\n",
        "\n",
        "print(df)\n",
        "\n"
      ],
      "metadata": {
        "colab": {
          "base_uri": "https://localhost:8080/"
        },
        "id": "E4M9yo4uYjep",
        "outputId": "1c5f0020-f04c-480a-d85d-70b1f5a6c8c8"
      },
      "execution_count": 15,
      "outputs": [
        {
          "output_type": "stream",
          "name": "stdout",
          "text": [
            "  과목번호      과목명 강의실  시간 수   교수\n",
            "0   C1  인공지능 개론  R1     3  김예희\n",
            "1   C2     웃음치료  R2     2  오정현\n",
            "2   C3      경영학  R3     3  인세훈\n",
            "3   C4   3D 디자인  R4     4  이새봄\n",
            "4   C5    스포츠경영  R2     2  배유진\n",
            "5   C6   예술의 세계  R3     1  이가원\n"
          ]
        }
      ]
    },
    {
      "cell_type": "code",
      "source": [
        "import pandas as pd\n",
        "\n",
        "# 데이터프레임 생성\n",
        "data = {\n",
        "    '과목번호': ['C1', 'C2', 'C3', 'C4', 'C5', 'C6'],\n",
        "    '과목명': ['인공지능 개론', '웃음치료', '경영학', '3D 디자인', '스포츠경영', '예술의 세계'],\n",
        "    '강의실': ['R1', 'R2', 'R3', 'R4', 'R2', 'R3'],\n",
        "    '시간 수': [3, 2, 3, 4, 2, 1],\n",
        "    '교수': ['김예희', '오정현', '인세훈', '이새봄', '배유진', '이가원']\n",
        "}\n",
        "\n",
        "df = pd.DataFrame(data)\n",
        "\n",
        "# 강의실을 기준으로 그룹화하고 시간 수를 합산\n",
        "grouped_df = df.groupby('강의실')['시간 수'].sum()\n",
        "\n",
        "# 출력\n",
        "for room, time in grouped_df.items():\n",
        "    print(f\"{room} ({time}):\")\n",
        "    room_df = df[df['강의실'] == room]\n",
        "    for index, row in room_df.iterrows():\n",
        "        print(f\" - {row['과목번호']}: {row['과목명']} ({row['시간 수']}) - {row['교수']}\")\n",
        "    print()\n"
      ],
      "metadata": {
        "colab": {
          "base_uri": "https://localhost:8080/"
        },
        "id": "jhkiejmcaPN4",
        "outputId": "668c7024-6f01-461f-974c-797da4395231"
      },
      "execution_count": 8,
      "outputs": [
        {
          "output_type": "stream",
          "name": "stdout",
          "text": [
            "R1 (3):\n",
            " - C1: 인공지능 개론 (3) - 김예희\n",
            "\n",
            "R2 (4):\n",
            " - C2: 웃음치료 (2) - 오정현\n",
            " - C5: 스포츠경영 (2) - 배유진\n",
            "\n",
            "R3 (4):\n",
            " - C3: 경영학 (3) - 인세훈\n",
            " - C6: 예술의 세계 (1) - 이가원\n",
            "\n",
            "R4 (4):\n",
            " - C4: 3D 디자인 (4) - 이새봄\n",
            "\n"
          ]
        }
      ]
    },
    {
      "cell_type": "code",
      "source": [
        "import pandas as pd\n",
        "\n",
        "col_names = ['과목번호', '과목명', '강의실', '시간 수']\n",
        "data = [['C1', '인공지능 개론', 'R1', 3],\n",
        "        ['C2', '웃음치료', 'R2', 2],\n",
        "        ['C3', '경영학', 'R3', 3],\n",
        "        ['C4', '3D 디자인', 'R4', 4],\n",
        "        ['C5', '스포츠경영', 'R2', 2],\n",
        "        ['C6', '예술의 세계', 'R3', 1]\n",
        "        ]\n",
        "\n",
        "# 데이터프레임 생성\n",
        "df = pd.DataFrame(data, columns=col_names)\n",
        "\n",
        "# '교수' 열 추가\n",
        "professors = ['김예희', '오정현', '인세훈', '이새봄', '배유진', '이가원']\n",
        "df['교수'] = professors\n",
        "\n",
        "print(df)\n",
        "\n",
        "grouped_df = df.groupby('강의실')['시간 수'].sum()\n",
        "print(grouped_df)\n",
        "\n"
      ],
      "metadata": {
        "colab": {
          "base_uri": "https://localhost:8080/"
        },
        "id": "6X4bT0LVaglP",
        "outputId": "57180642-812a-47e7-e047-1a021fbc57c2"
      },
      "execution_count": 20,
      "outputs": [
        {
          "output_type": "stream",
          "name": "stdout",
          "text": [
            "  과목번호      과목명 강의실  시간 수   교수\n",
            "0   C1  인공지능 개론  R1     3  김예희\n",
            "1   C2     웃음치료  R2     2  오정현\n",
            "2   C3      경영학  R3     3  인세훈\n",
            "3   C4   3D 디자인  R4     4  이새봄\n",
            "4   C5    스포츠경영  R2     2  배유진\n",
            "5   C6   예술의 세계  R3     1  이가원\n",
            "강의실\n",
            "R1    3\n",
            "R2    4\n",
            "R3    4\n",
            "R4    4\n",
            "Name: 시간 수, dtype: int64\n"
          ]
        }
      ]
    },
    {
      "cell_type": "code",
      "source": [
        "import pandas as pd\n",
        "\n",
        "# 데이터프레임 생성\n",
        "data = {\n",
        "    '강의실': ['R1', 'R2', 'R3', 'R4'],\n",
        "    '시간수': [3, 4, 4, 4]\n",
        "}\n",
        "\n",
        "df = pd.DataFrame(data)\n",
        "\n",
        "# 출력\n",
        "for index, row in df.iterrows():\n",
        "    print(f\"{row['강의실']} {row['시간수']}\")\n"
      ],
      "metadata": {
        "colab": {
          "base_uri": "https://localhost:8080/"
        },
        "id": "CSSBDiITbE43",
        "outputId": "c15e2e46-d13d-4a87-e3b5-234b87041b53"
      },
      "execution_count": 9,
      "outputs": [
        {
          "output_type": "stream",
          "name": "stdout",
          "text": [
            "R1 3\n",
            "R2 4\n",
            "R3 4\n",
            "R4 4\n"
          ]
        }
      ]
    },
    {
      "cell_type": "code",
      "source": [
        "import pandas as pd\n",
        "\n",
        "col_names = ['강의실', '시간 수']\n",
        "data = [['R1', 3],\n",
        "        ['R2', 2],\n",
        "        ['R3', 3],\n",
        "        ['R4', 4],\n",
        "        ['R2', 2],\n",
        "        ['R3', 1]\n",
        "        ]\n",
        "\n",
        "# 데이터프레임 생성\n",
        "df = pd.DataFrame(data, columns=col_names)\n",
        "\n",
        "# '교수' 열 추가\n",
        "professors = ['김예희', '오정현', '인세훈', '이새봄', '배유진', '이가원']\n",
        "df['교수'] = professors\n",
        "\n",
        "# 데이터프레임 출력\n",
        "print(df)\n",
        "\n",
        "# 강의실을 기준으로 그룹화하여 시간 수 합계 구하기\n",
        "grouped_df = df.groupby('강의실')['시간 수'].sum()\n",
        "\n",
        "# 결과 출력\n",
        "print(grouped_df)\n"
      ],
      "metadata": {
        "colab": {
          "base_uri": "https://localhost:8080/"
        },
        "id": "EGbifCd6dens",
        "outputId": "1cd9f2f9-7e51-4312-b504-30b4a8b4a41a"
      },
      "execution_count": 17,
      "outputs": [
        {
          "output_type": "stream",
          "name": "stdout",
          "text": [
            "  강의실  시간 수   교수\n",
            "0  R1     3  김예희\n",
            "1  R2     2  오정현\n",
            "2  R3     3  인세훈\n",
            "3  R4     4  이새봄\n",
            "4  R2     2  배유진\n",
            "5  R3     1  이가원\n",
            "강의실\n",
            "R1    3\n",
            "R2    4\n",
            "R3    4\n",
            "R4    4\n",
            "Name: 시간 수, dtype: int64\n"
          ]
        }
      ]
    },
    {
      "cell_type": "code",
      "source": [
        "# 강의실을 기준으로 그룹화하여 시간 수 합계 구하기\n",
        "grouped_df = df.groupby('강의실')['시간 수'].sum()\n",
        "\n",
        "# 결과 출력\n",
        "print(grouped_df.reset_index())\n"
      ],
      "metadata": {
        "colab": {
          "base_uri": "https://localhost:8080/"
        },
        "id": "55IiGQ4teglm",
        "outputId": "7488a132-650f-4582-b224-7102b6c82c6b"
      },
      "execution_count": 18,
      "outputs": [
        {
          "output_type": "stream",
          "name": "stdout",
          "text": [
            "  강의실  시간 수\n",
            "0  R1     3\n",
            "1  R2     4\n",
            "2  R3     4\n",
            "3  R4     4\n"
          ]
        }
      ]
    },
    {
      "cell_type": "code",
      "source": [
        "import pandas as pd #pandas 불러오기\n",
        "\n",
        "col_names = ['과목번호', '과목명', '강의실', '시간 수'] #1번 요구사항 해결\n",
        "data = [['C1', '인공지능 개론', 'R1', 3],\n",
        "        ['C2', '웃음치료', 'R2', 2],\n",
        "        ['C3', '경영학', 'R3', 3],\n",
        "        ['C4', '3D 디자인', 'R4', 4],\n",
        "        ['C5', '스포츠경영', 'R2', 2],\n",
        "        ['C6', '예술의 세계', 'R3', 1]\n",
        "        ]\n",
        "\n",
        "# 데이터프레임 생성, 2번 요구사항 해결\n",
        "df = pd.DataFrame(data, columns=col_names)\n",
        "\n",
        "# '교수' 열 추가, 3번 요구사항 해결\n",
        "professors = ['김예희', '오정현', '인세훈', '이새봄', '배유진', '이가원']\n",
        "df['교수'] = professors\n",
        "\n",
        "# 강의실을 기준으로 그룹화하여 시간 수 합계 구하기, 4번 요구사항 해결\n",
        "grouped_df = df.groupby('강의실')['시간 수'].sum()\n",
        "\n",
        "# 결과 출력\n",
        "print(grouped_df.reset_index())\n"
      ],
      "metadata": {
        "colab": {
          "base_uri": "https://localhost:8080/"
        },
        "id": "e2OWhVLPer76",
        "outputId": "f34d0968-02b6-4e57-b245-89580acf8da8"
      },
      "execution_count": 19,
      "outputs": [
        {
          "output_type": "stream",
          "name": "stdout",
          "text": [
            "  강의실  시간 수\n",
            "0  R1     3\n",
            "1  R2     4\n",
            "2  R3     4\n",
            "3  R4     4\n"
          ]
        }
      ]
    },
    {
      "cell_type": "code",
      "source": [],
      "metadata": {
        "id": "0_nY-E7metsw"
      },
      "execution_count": null,
      "outputs": []
    }
  ]
}