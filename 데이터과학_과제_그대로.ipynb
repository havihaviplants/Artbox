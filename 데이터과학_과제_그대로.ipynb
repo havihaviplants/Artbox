{
  "nbformat": 4,
  "nbformat_minor": 0,
  "metadata": {
    "colab": {
      "provenance": [],
      "authorship_tag": "ABX9TyOCUdbjfqsAliFQM+BxDcFZ",
      "include_colab_link": true
    },
    "kernelspec": {
      "name": "python3",
      "display_name": "Python 3"
    },
    "language_info": {
      "name": "python"
    }
  },
  "cells": [
    {
      "cell_type": "markdown",
      "metadata": {
        "id": "view-in-github",
        "colab_type": "text"
      },
      "source": [
        "<a href=\"https://colab.research.google.com/github/havihaviplants/Artbox/blob/main/%EB%8D%B0%EC%9D%B4%ED%84%B0%EA%B3%BC%ED%95%99_%EA%B3%BC%EC%A0%9C_%EA%B7%B8%EB%8C%80%EB%A1%9C.ipynb\" target=\"_parent\"><img src=\"https://colab.research.google.com/assets/colab-badge.svg\" alt=\"Open In Colab\"/></a>"
      ]
    },
    {
      "cell_type": "code",
      "execution_count": 1,
      "metadata": {
        "colab": {
          "base_uri": "https://localhost:8080/"
        },
        "id": "wC7xQN6la1dO",
        "outputId": "1d9b3b6d-a818-4ca8-d3ac-3437d787e71a"
      },
      "outputs": [
        {
          "output_type": "stream",
          "name": "stdout",
          "text": [
            "Collecting selenium\n",
            "  Downloading selenium-4.19.0-py3-none-any.whl (10.5 MB)\n",
            "\u001b[2K     \u001b[90m━━━━━━━━━━━━━━━━━━━━━━━━━━━━━━━━━━━━━━━━\u001b[0m \u001b[32m10.5/10.5 MB\u001b[0m \u001b[31m26.7 MB/s\u001b[0m eta \u001b[36m0:00:00\u001b[0m\n",
            "\u001b[?25hRequirement already satisfied: urllib3[socks]<3,>=1.26 in /usr/local/lib/python3.10/dist-packages (from selenium) (2.0.7)\n",
            "Collecting trio~=0.17 (from selenium)\n",
            "  Downloading trio-0.25.0-py3-none-any.whl (467 kB)\n",
            "\u001b[2K     \u001b[90m━━━━━━━━━━━━━━━━━━━━━━━━━━━━━━━━━━━━━━━━\u001b[0m \u001b[32m467.2/467.2 kB\u001b[0m \u001b[31m33.6 MB/s\u001b[0m eta \u001b[36m0:00:00\u001b[0m\n",
            "\u001b[?25hCollecting trio-websocket~=0.9 (from selenium)\n",
            "  Downloading trio_websocket-0.11.1-py3-none-any.whl (17 kB)\n",
            "Requirement already satisfied: certifi>=2021.10.8 in /usr/local/lib/python3.10/dist-packages (from selenium) (2024.2.2)\n",
            "Requirement already satisfied: typing_extensions>=4.9.0 in /usr/local/lib/python3.10/dist-packages (from selenium) (4.10.0)\n",
            "Requirement already satisfied: attrs>=23.2.0 in /usr/local/lib/python3.10/dist-packages (from trio~=0.17->selenium) (23.2.0)\n",
            "Requirement already satisfied: sortedcontainers in /usr/local/lib/python3.10/dist-packages (from trio~=0.17->selenium) (2.4.0)\n",
            "Requirement already satisfied: idna in /usr/local/lib/python3.10/dist-packages (from trio~=0.17->selenium) (3.6)\n",
            "Collecting outcome (from trio~=0.17->selenium)\n",
            "  Downloading outcome-1.3.0.post0-py2.py3-none-any.whl (10 kB)\n",
            "Requirement already satisfied: sniffio>=1.3.0 in /usr/local/lib/python3.10/dist-packages (from trio~=0.17->selenium) (1.3.1)\n",
            "Requirement already satisfied: exceptiongroup in /usr/local/lib/python3.10/dist-packages (from trio~=0.17->selenium) (1.2.0)\n",
            "Collecting wsproto>=0.14 (from trio-websocket~=0.9->selenium)\n",
            "  Downloading wsproto-1.2.0-py3-none-any.whl (24 kB)\n",
            "Requirement already satisfied: pysocks!=1.5.7,<2.0,>=1.5.6 in /usr/local/lib/python3.10/dist-packages (from urllib3[socks]<3,>=1.26->selenium) (1.7.1)\n",
            "Collecting h11<1,>=0.9.0 (from wsproto>=0.14->trio-websocket~=0.9->selenium)\n",
            "  Downloading h11-0.14.0-py3-none-any.whl (58 kB)\n",
            "\u001b[2K     \u001b[90m━━━━━━━━━━━━━━━━━━━━━━━━━━━━━━━━━━━━━━━━\u001b[0m \u001b[32m58.3/58.3 kB\u001b[0m \u001b[31m3.9 MB/s\u001b[0m eta \u001b[36m0:00:00\u001b[0m\n",
            "\u001b[?25hInstalling collected packages: outcome, h11, wsproto, trio, trio-websocket, selenium\n",
            "Successfully installed h11-0.14.0 outcome-1.3.0.post0 selenium-4.19.0 trio-0.25.0 trio-websocket-0.11.1 wsproto-1.2.0\n"
          ]
        }
      ],
      "source": [
        "pip install selenium"
      ]
    },
    {
      "cell_type": "code",
      "source": [
        "from selenium import webdriver\n",
        "from selenium.webdriver.common.keys import Keys"
      ],
      "metadata": {
        "id": "bWp9Ou7hbEfR"
      },
      "execution_count": 2,
      "outputs": []
    },
    {
      "cell_type": "code",
      "source": [
        "options = webdriver.ChromeOptions()\n",
        "options.add_argument('--headless')\n",
        "options.add_argument('--no-sandbox')\n",
        "options.add_argument('--disable-dev-shm-usage')\n",
        "\n",
        "# driver = webdriver.Chrome('chromedriver', options=options)\n",
        "driver = webdriver.Chrome(options=options)"
      ],
      "metadata": {
        "id": "RmF0wwnVbMyD"
      },
      "execution_count": 3,
      "outputs": []
    },
    {
      "cell_type": "code",
      "source": [
        "# url = 'http://ncov.kdca.go.kr/'us\n",
        "url='https://ncov.kdca.go.kr/pot/cv/trend/dmstc/selectMntrgSttus.do'\n",
        "driver.get(url)"
      ],
      "metadata": {
        "id": "XlbZsKXPbzKr"
      },
      "execution_count": 4,
      "outputs": []
    },
    {
      "cell_type": "code",
      "source": [
        "d1 = driver.find_element('xpath',\n",
        "                        '//*[@id=\"content\"]/div[1]/table/thead/tr/th[2]').text\n",
        "print(\"구분 : \", d1)\n",
        "\n",
        "d2 = driver.find_element('xpath',\n",
        "                        '//*[@id=\"content\"]/div[1]/table/tbody/tr/td[2]'\n",
        "                                                                      ).text\n",
        "print(\"주간 양성자 : \", d2)\n",
        "\n",
        "d3 = driver.find_element('xpath',\n",
        "                        '//*[@id=\"content\"]/div[3]/table/tbody/tr[1]/td[2]'\n",
        "                         ).text\n",
        "print(\"성별 양성자 현황(남성) : \", d3)\n",
        "\n",
        "d4 = driver.find_element('xpath',\n",
        "                         '//*[@id=\"content\"]/div[3]/table/tbody/tr[2]/td[2]'\n",
        "                         ).text\n",
        "print(\"성별 양성자 현황(여성) : \", d4)\n",
        "\n",
        "d5 = driver.find_element('xpath',\n",
        "                         '//*[@id=\"content\"]/div[4]/table/tbody/tr[1]/td[2]'\n",
        "                         ).text\n",
        "print(\"연령별 양성자 현황 (80이상) : \", d5)\n",
        "\n",
        "d6 = driver.find_element('xpath',\n",
        "                         '//*[@id=\"content\"]/div[4]/table/tbody/tr[2]/td[2]'\n",
        "                         ).text\n",
        "print(\"연령별 양성자 현황 (70-79) : \", d6)\n",
        "\n",
        "d7 = driver.find_element('xpath',\n",
        "                         '//*[@id=\"content\"]/div[4]/table/tbody/tr[3]/td[2]'\n",
        "                         ).text\n",
        "print(\"연령별 양성자 현황 (60-69) : \", d7)\n",
        "\n",
        "d8 = driver.find_element('xpath',\n",
        "                         '//*[@id=\"content\"]/div[4]/table/tbody/tr[4]/td[2]'\n",
        "                         ).text\n",
        "print(\"연령별 양성자 현황 (50-59) : \", d8)\n",
        "\n",
        "d9 = driver.find_element('xpath',\n",
        "                         '//*[@id=\"content\"]/div[4]/table/tbody/tr[5]/td[2]'\n",
        "                         ).text\n",
        "print(\"연령별 양성자 현황 (40-49) : \", d9)\n",
        "\n",
        "d10 = driver.find_element('xpath',\n",
        "                         '//*[@id=\"content\"]/div[4]/table/tbody/tr[6]/td[2]'\n",
        "                         ).text\n",
        "print(\"연령별 양성자 현황 (30-39) : \", d10)\n",
        "\n",
        "d11 = driver.find_element('xpath',\n",
        "                         '//*[@id=\"content\"]/div[4]/table/tbody/tr[7]/td[2]'\n",
        "                         ).text\n",
        "print(\"연령별 양성자 현황 (20-29) : \", d11)\n",
        "\n",
        "d12 = driver.find_element('xpath',\n",
        "                         '//*[@id=\"content\"]/div[4]/table/tbody/tr[8]/td[2]'\n",
        "                         ).text\n",
        "print(\"연령별 양성자 현황 (10-19) : \", d12)\n",
        "\n",
        "d13 = driver.find_element('xpath',\n",
        "                         '//*[@id=\"content\"]/div[4]/table/tbody/tr[9]/td[2]'\n",
        "                         ).text\n",
        "print(\"연령별 양성자 현황 (0-9) : \", d13)"
      ],
      "metadata": {
        "colab": {
          "base_uri": "https://localhost:8080/"
        },
        "id": "n8X4BgRnjcXX",
        "outputId": "697ef045-a3de-42f2-b3e6-d4aa7ee75fab"
      },
      "execution_count": 33,
      "outputs": [
        {
          "output_type": "stream",
          "name": "stdout",
          "text": [
            "구분 :  02.25. ~ 03.02.\n",
            "주간 양성자 :  4,563\n",
            "성별 양성자 현황(남성) :  1,942\n",
            "성별 양성자 현황(여성) :  2,621\n",
            "연령별 양성자 현황 (80이상) :  581\n",
            "연령별 양성자 현황 (70-79) :  504\n",
            "연령별 양성자 현황 (60-69) :  741\n",
            "연령별 양성자 현황 (50-59) :  602\n",
            "연령별 양성자 현황 (40-49) :  565\n",
            "연령별 양성자 현황 (30-39) :  613\n",
            "연령별 양성자 현황 (20-29) :  439\n",
            "연령별 양성자 현황 (10-19) :  204\n",
            "연령별 양성자 현황 (0-9) :  314\n"
          ]
        }
      ]
    },
    {
      "cell_type": "markdown",
      "source": [],
      "metadata": {
        "id": "vivtGUFdmGSe"
      }
    },
    {
      "cell_type": "code",
      "source": [
        "d1 = driver.find_element('xpath',\n",
        "                        '//*[@id=\"content\"]/div[4]/table/thead/tr/th[3]').text\n",
        "print(\"구분 : \", d1)\n",
        "\n",
        "d2 = driver.find_element('xpath',\n",
        "                        '//*[@id=\"content\"]/div[1]/table/tbody/tr/td[3]'\n",
        "                                                                      ).text\n",
        "print(\"주간 양성자 : \", d2)\n",
        "\n",
        "d3 = driver.find_element('xpath',\n",
        "                        '//*[@id=\"content\"]/div[3]/table/tbody/tr[1]/td[3]'\n",
        "                         ).text\n",
        "print(\"성별 양성자 현황(남성) : \", d3)\n",
        "\n",
        "d4 = driver.find_element('xpath',\n",
        "                         '//*[@id=\"content\"]/div[3]/table/tbody/tr[2]/td[3]'\n",
        "                         ).text\n",
        "print(\"성별 양성자 현황(여성) : \", d4)\n",
        "\n",
        "d5 = driver.find_element('xpath',\n",
        "                         '//*[@id=\"content\"]/div[4]/table/tbody/tr[1]/td[3]'\n",
        "                         ).text\n",
        "print(\"연령별 양성자 현황 (80이상) : \", d5)\n",
        "\n",
        "d6 = driver.find_element('xpath',\n",
        "                         '//*[@id=\"content\"]/div[4]/table/tbody/tr[2]/td[3]'\n",
        "                         ).text\n",
        "print(\"연령별 양성자 현황 (70-79) : \", d6)\n",
        "\n",
        "d7 = driver.find_element('xpath',\n",
        "                         '//*[@id=\"content\"]/div[4]/table/tbody/tr[3]/td[3]'\n",
        "                         ).text\n",
        "print(\"연령별 양성자 현황 (60-69) : \", d7)\n",
        "\n",
        "d8 = driver.find_element('xpath',\n",
        "                         '//*[@id=\"content\"]/div[4]/table/tbody/tr[4]/td[3]'\n",
        "                         ).text\n",
        "print(\"연령별 양성자 현황 (50-59) : \", d8)\n",
        "\n",
        "d9 = driver.find_element('xpath',\n",
        "                         '//*[@id=\"content\"]/div[4]/table/tbody/tr[5]/td[3]'\n",
        "                         ).text\n",
        "print(\"연령별 양성자 현황 (40-49) : \", d9)\n",
        "\n",
        "d10 = driver.find_element('xpath',\n",
        "                         '//*[@id=\"content\"]/div[4]/table/tbody/tr[6]/td[3]'\n",
        "                         ).text\n",
        "print(\"연령별 양성자 현황 (30-39) : \", d10)\n",
        "\n",
        "d11 = driver.find_element('xpath',\n",
        "                         '//*[@id=\"content\"]/div[4]/table/tbody/tr[7]/td[3]'\n",
        "                         ).text\n",
        "print(\"연령별 양성자 현황 (20-29) : \", d11)\n",
        "\n",
        "d12 = driver.find_element('xpath',\n",
        "                         '//*[@id=\"content\"]/div[4]/table/tbody/tr[8]/td[3]'\n",
        "                         ).text\n",
        "print(\"연령별 양성자 현황 (10-19) : \", d12)\n",
        "\n",
        "d13 = driver.find_element('xpath',\n",
        "                         '//*[@id=\"content\"]/div[4]/table/tbody/tr[9]/td[3]'\n",
        "                         ).text\n",
        "print(\"연령별 양성자 현황 (0-9) : \", d13)"
      ],
      "metadata": {
        "colab": {
          "base_uri": "https://localhost:8080/"
        },
        "id": "Lgn-J4WyMmso",
        "outputId": "14cc8136-37f3-4d68-9cc7-3fff9b9fa232"
      },
      "execution_count": 46,
      "outputs": [
        {
          "output_type": "stream",
          "name": "stdout",
          "text": [
            "구분 :  03.03. ~ 03.09.\n",
            "주간 양성자 :  4,705\n",
            "성별 양성자 현황(남성) :  2,021\n",
            "성별 양성자 현황(여성) :  2,684\n",
            "연령별 양성자 현황 (80이상) :  534\n",
            "연령별 양성자 현황 (70-79) :  570\n",
            "연령별 양성자 현황 (60-69) :  757\n",
            "연령별 양성자 현황 (50-59) :  548\n",
            "연령별 양성자 현황 (40-49) :  515\n",
            "연령별 양성자 현황 (30-39) :  571\n",
            "연령별 양성자 현황 (20-29) :  439\n",
            "연령별 양성자 현황 (10-19) :  440\n",
            "연령별 양성자 현황 (0-9) :  331\n"
          ]
        }
      ]
    },
    {
      "cell_type": "code",
      "source": [
        "d1 = driver.find_element('xpath',\n",
        "                        '//*[@id=\"content\"]/div[1]/table/thead/tr/th[4]').text\n",
        "print(\"구분 : \", d1)\n",
        "\n",
        "d2 = driver.find_element('xpath',\n",
        "                        '//*[@id=\"content\"]/div[1]/table/tbody/tr/td[4]'\n",
        "                                                                      ).text\n",
        "print(\"주간 양성자 : \", d2)\n",
        "\n",
        "d3 = driver.find_element('xpath',\n",
        "                        '//*[@id=\"content\"]/div[3]/table/tbody/tr[1]/td[4]'\n",
        "                         ).text\n",
        "print(\"성별 양성자 현황(남성) : \", d3)\n",
        "\n",
        "d4 = driver.find_element('xpath',\n",
        "                         '//*[@id=\"content\"]/div[3]/table/tbody/tr[2]/td[4]'\n",
        "                         ).text\n",
        "print(\"성별 양성자 현황(여성) : \", d4)\n",
        "\n",
        "d5 = driver.find_element('xpath',\n",
        "                         '//*[@id=\"content\"]/div[4]/table/tbody/tr[1]/td[4]'\n",
        "                         ).text\n",
        "print(\"연령별 양성자 현황 (80이상) : \", d5)\n",
        "\n",
        "d6 = driver.find_element('xpath',\n",
        "                         '//*[@id=\"content\"]/div[4]/table/tbody/tr[2]/td[4]'\n",
        "                         ).text\n",
        "print(\"연령별 양성자 현황 (70-79) : \", d6)\n",
        "\n",
        "d7 = driver.find_element('xpath',\n",
        "                         '//*[@id=\"content\"]/div[4]/table/tbody/tr[3]/td[4]'\n",
        "                         ).text\n",
        "print(\"연령별 양성자 현황 (60-69) : \", d7)\n",
        "\n",
        "d8 = driver.find_element('xpath',\n",
        "                         '//*[@id=\"content\"]/div[4]/table/tbody/tr[4]/td[4]'\n",
        "                         ).text\n",
        "print(\"연령별 양성자 현황 (50-59) : \", d8)\n",
        "\n",
        "d9 = driver.find_element('xpath',\n",
        "                         '//*[@id=\"content\"]/div[4]/table/tbody/tr[5]/td[4]'\n",
        "                         ).text\n",
        "print(\"연령별 양성자 현황 (40-49) : \", d9)\n",
        "\n",
        "d10 = driver.find_element('xpath',\n",
        "                         '//*[@id=\"content\"]/div[4]/table/tbody/tr[6]/td[4]'\n",
        "                         ).text\n",
        "print(\"연령별 양성자 현황 (30-39) : \", d10)\n",
        "\n",
        "d11 = driver.find_element('xpath',\n",
        "                         '//*[@id=\"content\"]/div[4]/table/tbody/tr[7]/td[4]'\n",
        "                         ).text\n",
        "print(\"연령별 양성자 현황 (20-29) : \", d11)\n",
        "\n",
        "d12 = driver.find_element('xpath',\n",
        "                         '//*[@id=\"content\"]/div[4]/table/tbody/tr[8]/td[4]'\n",
        "                         ).text\n",
        "print(\"연령별 양성자 현황 (10-19) : \", d12)\n",
        "\n",
        "d13 = driver.find_element('xpath',\n",
        "                         '//*[@id=\"content\"]/div[4]/table/tbody/tr[9]/td[4]'\n",
        "                         ).text\n",
        "print(\"연령별 양성자 현황 (0-9) : \", d13)"
      ],
      "metadata": {
        "colab": {
          "base_uri": "https://localhost:8080/"
        },
        "id": "Naaml3QAPBwH",
        "outputId": "3babcc20-70a5-4ee8-c1af-6321ab7f7263"
      },
      "execution_count": 52,
      "outputs": [
        {
          "output_type": "stream",
          "name": "stdout",
          "text": [
            "구분 :  03.10. ~ 03.16.\n",
            "주간 양성자 :  5,528\n",
            "성별 양성자 현황(남성) :  2,410\n",
            "성별 양성자 현황(여성) :  3,118\n",
            "연령별 양성자 현황 (80이상) :  583\n",
            "연령별 양성자 현황 (70-79) :  538\n",
            "연령별 양성자 현황 (60-69) :  677\n",
            "연령별 양성자 현황 (50-59) :  575\n",
            "연령별 양성자 현황 (40-49) :  616\n",
            "연령별 양성자 현황 (30-39) :  563\n",
            "연령별 양성자 현황 (20-29) :  447\n",
            "연령별 양성자 현황 (10-19) :  1,038\n",
            "연령별 양성자 현황 (0-9) :  491\n"
          ]
        }
      ]
    },
    {
      "cell_type": "code",
      "source": [
        "d1 = driver.find_element('xpath',\n",
        "                        '//*[@id=\"content\"]/div[1]/table/thead/tr/th[5]').text\n",
        "print(\"구분 : \", d1)\n",
        "\n",
        "d2 = driver.find_element('xpath',\n",
        "                        '//*[@id=\"content\"]/div[1]/table/tbody/tr/td[5]'\n",
        "                                                                      ).text\n",
        "print(\"주간 양성자 : \", d2)\n",
        "\n",
        "d3 = driver.find_element('xpath',\n",
        "                        '//*[@id=\"content\"]/div[3]/table/tbody/tr[1]/td[5]'\n",
        "                         ).text\n",
        "print(\"성별 양성자 현황(남성) : \", d3)\n",
        "\n",
        "d4 = driver.find_element('xpath',\n",
        "                         '//*[@id=\"content\"]/div[3]/table/tbody/tr[2]/td[5]'\n",
        "                         ).text\n",
        "print(\"성별 양성자 현황(여성) : \", d4)\n",
        "\n",
        "d5 = driver.find_element('xpath',\n",
        "                         '//*[@id=\"content\"]/div[4]/table/tbody/tr[1]/td[5]'\n",
        "                         ).text\n",
        "print(\"연령별 양성자 현황 (80이상) : \", d5)\n",
        "\n",
        "d6 = driver.find_element('xpath',\n",
        "                         '//*[@id=\"content\"]/div[4]/table/tbody/tr[2]/td[5]'\n",
        "                         ).text\n",
        "print(\"연령별 양성자 현황 (70-79) : \", d6)\n",
        "\n",
        "d7 = driver.find_element('xpath',\n",
        "                         '//*[@id=\"content\"]/div[4]/table/tbody/tr[3]/td[5]'\n",
        "                         ).text\n",
        "print(\"연령별 양성자 현황 (60-69) : \", d7)\n",
        "\n",
        "d8 = driver.find_element('xpath',\n",
        "                         '//*[@id=\"content\"]/div[4]/table/tbody/tr[4]/td[5]'\n",
        "                         ).text\n",
        "print(\"연령별 양성자 현황 (50-59) : \", d8)\n",
        "\n",
        "d9 = driver.find_element('xpath',\n",
        "                         '//*[@id=\"content\"]/div[4]/table/tbody/tr[5]/td[5]'\n",
        "                         ).text\n",
        "print(\"연령별 양성자 현황 (40-49) : \", d9)\n",
        "\n",
        "d10 = driver.find_element('xpath',\n",
        "                         '//*[@id=\"content\"]/div[4]/table/tbody/tr[6]/td[5]'\n",
        "                         ).text\n",
        "print(\"연령별 양성자 현황 (30-39) : \", d10)\n",
        "\n",
        "d11 = driver.find_element('xpath',\n",
        "                         '//*[@id=\"content\"]/div[4]/table/tbody/tr[7]/td[5]'\n",
        "                         ).text\n",
        "print(\"연령별 양성자 현황 (20-29) : \", d11)\n",
        "\n",
        "d12 = driver.find_element('xpath',\n",
        "                         '//*[@id=\"content\"]/div[4]/table/tbody/tr[8]/td[5]'\n",
        "                         ).text\n",
        "print(\"연령별 양성자 현황 (10-19) : \", d12)\n",
        "\n",
        "d13 = driver.find_element('xpath',\n",
        "                         '//*[@id=\"content\"]/div[4]/table/tbody/tr[9]/td[5]'\n",
        "                         ).text\n",
        "print(\"연령별 양성자 현황 (0-9) : \", d13)"
      ],
      "metadata": {
        "colab": {
          "base_uri": "https://localhost:8080/"
        },
        "id": "kYvzD5X_Qg02",
        "outputId": "bbc9468d-e081-43aa-8ac4-c29ef0605790"
      },
      "execution_count": 54,
      "outputs": [
        {
          "output_type": "stream",
          "name": "stdout",
          "text": [
            "구분 :  03.17. ~ 03.23.\n",
            "주간 양성자 :  4,853\n",
            "성별 양성자 현황(남성) :  2,074\n",
            "성별 양성자 현황(여성) :  2,779\n",
            "연령별 양성자 현황 (80이상) :  455\n",
            "연령별 양성자 현황 (70-79) :  422\n",
            "연령별 양성자 현황 (60-69) :  598\n",
            "연령별 양성자 현황 (50-59) :  498\n",
            "연령별 양성자 현황 (40-49) :  590\n",
            "연령별 양성자 현황 (30-39) :  529\n",
            "연령별 양성자 현황 (20-29) :  476\n",
            "연령별 양성자 현황 (10-19) :  932\n",
            "연령별 양성자 현황 (0-9) :  353\n"
          ]
        }
      ]
    },
    {
      "cell_type": "code",
      "source": [],
      "metadata": {
        "id": "MaQIlswBR6NT"
      },
      "execution_count": null,
      "outputs": []
    }
  ]
}