{
  "nbformat": 4,
  "nbformat_minor": 0,
  "metadata": {
    "colab": {
      "provenance": [],
      "authorship_tag": "ABX9TyP1w7jZ2w9KcA4DC8yly40V",
      "include_colab_link": true
    },
    "kernelspec": {
      "name": "python3",
      "display_name": "Python 3"
    },
    "language_info": {
      "name": "python"
    }
  },
  "cells": [
    {
      "cell_type": "markdown",
      "metadata": {
        "id": "view-in-github",
        "colab_type": "text"
      },
      "source": [
        "<a href=\"https://colab.research.google.com/github/havihaviplants/Artbox/blob/main/%EB%8D%B0%EC%9D%B4%ED%84%B0%EA%B3%BC%ED%95%99_%EC%83%81%EA%B4%80%EA%B4%80%EA%B3%84_%EB%B6%84%EC%84%9D.ipynb\" target=\"_parent\"><img src=\"https://colab.research.google.com/assets/colab-badge.svg\" alt=\"Open In Colab\"/></a>"
      ]
    },
    {
      "cell_type": "code",
      "execution_count": null,
      "metadata": {
        "id": "-OXXkvWzrI_u"
      },
      "outputs": [],
      "source": [
        "import pandas as pd\n",
        "\n",
        "#리스트데 데이터 삽입\n",
        "englistening = [30, 60, 90]\n",
        "engscore = [70,80,90]\n",
        "\n"
      ]
    },
    {
      "cell_type": "code",
      "source": [
        "#리스트를 데이터 프레임으로 변환\n",
        "data = {'englistening' : englistening, 'engscore' : engscore}\n",
        "df = pd.DataFrame(data)\n",
        "\n"
      ],
      "metadata": {
        "id": "dgqCLxo1rSXH"
      },
      "execution_count": null,
      "outputs": []
    },
    {
      "cell_type": "code",
      "source": [
        "\n",
        "#상관분석 수행\n",
        "coef = df.corr(method = 'pearson')\n",
        "print(coef)\n"
      ],
      "metadata": {
        "colab": {
          "base_uri": "https://localhost:8080/"
        },
        "id": "vYlvcrI8rUFL",
        "outputId": "be85a0b7-155f-4365-b44c-9c69ccf66ddf"
      },
      "execution_count": null,
      "outputs": [
        {
          "output_type": "stream",
          "name": "stdout",
          "text": [
            "              englistening  engscore\n",
            "englistening           1.0       1.0\n",
            "engscore               1.0       1.0\n"
          ]
        }
      ]
    }
  ]
}